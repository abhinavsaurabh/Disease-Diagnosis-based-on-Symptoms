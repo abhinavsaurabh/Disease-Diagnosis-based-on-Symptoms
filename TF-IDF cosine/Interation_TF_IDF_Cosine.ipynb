{
  "nbformat": 4,
  "nbformat_minor": 0,
  "metadata": {
    "kernelspec": {
      "display_name": "Python 3",
      "language": "python",
      "name": "python3"
    },
    "language_info": {
      "codemirror_mode": {
        "name": "ipython",
        "version": 3
      },
      "file_extension": ".py",
      "mimetype": "text/x-python",
      "name": "python",
      "nbconvert_exporter": "python",
      "pygments_lexer": "ipython3",
      "version": "3.8.3"
    },
    "colab": {
      "name": "Interation TF-IDF Cosine.ipynb",
      "provenance": [],
      "collapsed_sections": []
    }
  },
  "cells": [
    {
      "cell_type": "code",
      "metadata": {
        "id": "xz8_iVwfwHvS"
      },
      "source": [
        "from nltk.stem import WordNetLemmatizer\n",
        "from nltk.corpus import stopwords\n",
        "from nltk.stem.porter import PorterStemmer\n",
        "from nltk.tokenize import RegexpTokenizer\n",
        "from statistics import mean\n",
        "from nltk.corpus import wordnet \n",
        "import numpy as np\n",
        "import pandas as pd\n",
        "import math\n",
        "from sklearn.model_selection import train_test_split,cross_val_score\n",
        "import math\n",
        "from bs4 import BeautifulSoup\n",
        "from itertools import combinations\n",
        "from time import time\n",
        "from collections import Counter\n",
        "import operator\n",
        "import warnings\n",
        "import operator\n",
        "import pickle\n",
        "import numpy as np\n",
        "import requests\n",
        "import re\n",
        "from googlesearch import search\n",
        "\n",
        "from synonyms import syno\n",
        "from tf_idf_result import tf_idf_score\n",
        "from tf_idf_result import gen_vector\n",
        "from tokenizer import convert_tolowercase\n",
        "from tokenizer import regextokenizer_func\n",
        "from cosine_results import cosine_dot\n",
        "from cosine_results import cosine_similarity\n",
        "from synonyms import generatesymptoms2\n",
        "\n",
        "\n",
        "from tf_idf_result import tf_idf_results\n",
        "from tf_idf_result import diseaseDetail\n",
        "from cosine_results import cosine_sim_results\n",
        "\n",
        "warnings.simplefilter(\"ignore\")"
      ],
      "execution_count": null,
      "outputs": []
    },
    {
      "cell_type": "code",
      "metadata": {
        "id": "3-m96074wHvV",
        "colab": {
          "base_uri": "https://localhost:8080/"
        },
        "outputId": "6cfc0743-bce2-4a86-96a7-01ae3ee48534"
      },
      "source": [
        "import nltk\n",
        "nltk.download('stopwords')\n",
        "nltk.download('wordnet')"
      ],
      "execution_count": null,
      "outputs": [
        {
          "output_type": "stream",
          "text": [
            "[nltk_data] Downloading package stopwords to /root/nltk_data...\n",
            "[nltk_data]   Unzipping corpora/stopwords.zip.\n",
            "[nltk_data] Downloading package wordnet to /root/nltk_data...\n",
            "[nltk_data]   Unzipping corpora/wordnet.zip.\n"
          ],
          "name": "stdout"
        },
        {
          "output_type": "execute_result",
          "data": {
            "text/plain": [
              "True"
            ]
          },
          "metadata": {
            "tags": []
          },
          "execution_count": 2
        }
      ]
    },
    {
      "cell_type": "code",
      "metadata": {
        "id": "9u9CrZujwHvX"
      },
      "source": [
        "\n",
        "df=pd.read_csv(\"/content/normal (3).csv\")\n",
        "documentname_list=list(df['label_dis'])\n",
        "df=df.iloc[:,1:]\n",
        "columns_name=list(df.columns)\n",
        "documentname_list=list(documentname_list)\n",
        "\n",
        "N=len(df)\n",
        "M=len(columns_name)\n",
        "\n",
        "idf={}\n",
        "for col in columns_name:\n",
        "    temp=np.count_nonzero(df[col])\n",
        "    idf[col]=np.log(N/temp)\n",
        "\n",
        "\n",
        "tf={}\n",
        "for i in range(N):\n",
        "    for col in columns_name:\n",
        "        key=(documentname_list[i],col)\n",
        "        tf[key]=df.loc[i,col]\n",
        "\n",
        "tf_idf={}\n",
        "for i in range(N):\n",
        "    for col in columns_name:\n",
        "        key=(documentname_list[i],col)\n",
        "        tf_idf[key]=float(idf[col])*float(tf[key])\n",
        "\n",
        "\n",
        "D = np.zeros((N, M),dtype='float32')\n",
        "for i in tf_idf:\n",
        "    sym = columns_name.index(i[1])\n",
        "    dis=documentname_list.index(i[0])\n",
        "    D[dis][sym] = tf_idf[i]\n"
      ],
      "execution_count": null,
      "outputs": []
    },
    {
      "cell_type": "code",
      "metadata": {
        "id": "MG4GV7siwHvY"
      },
      "source": [
        "df_comb = pd.read_csv(\"/content/combinational (3).csv\") # Disease combination\n",
        "df_norm = pd.read_csv(\"/content/normal (3).csv\") # Individual Disease\n",
        "Y = df_norm.iloc[:, 0:1]\n",
        "X = df_norm.iloc[:, 1:]\n",
        "\n",
        "dataset_symptoms = list(X.columns)\n",
        "diseases = list(set(Y['label_dis']))\n",
        "diseases.sort()"
      ],
      "execution_count": null,
      "outputs": []
    },
    {
      "cell_type": "code",
      "metadata": {
        "id": "Eo1X6PdpIedw"
      },
      "source": [
        "splitter = RegexpTokenizer(r'\\w+')\n",
        "stop_words = stopwords.words('english')\n",
        "lemmatizer = WordNetLemmatizer()"
      ],
      "execution_count": null,
      "outputs": []
    },
    {
      "cell_type": "code",
      "metadata": {
        "id": "tk6AWnqM3NK_",
        "colab": {
          "base_uri": "https://localhost:8080/"
        },
        "outputId": "e42bd828-7ca3-4149-9940-49e6c1b574b3"
      },
      "source": [
        "user_symptoms = str(input(\"\\nPlease enter symptoms separated by comma(,):\\n\")).lower().split(',')\n",
        "processed_user_symptoms=[]\n",
        "for sym in user_symptoms:\n",
        "    sym=sym.strip()\n",
        "    sym=sym.replace('-',' ')\n",
        "    sym=sym.replace(\"'\",'')\n",
        "    sym = ' '.join([lemmatizer.lemmatize(word) for word in splitter.tokenize(sym)])\n",
        "    processed_user_symptoms.append(sym)  "
      ],
      "execution_count": null,
      "outputs": [
        {
          "output_type": "stream",
          "text": [
            "\n",
            "Please enter symptoms separated by comma(,):\n",
            "cough, bleeding\n"
          ],
          "name": "stdout"
        }
      ]
    },
    {
      "cell_type": "code",
      "metadata": {
        "colab": {
          "base_uri": "https://localhost:8080/"
        },
        "id": "83vEeHYlJHJ3",
        "outputId": "90676062-533d-4159-a454-cc04c42d26e9"
      },
      "source": [
        "user_symptoms = generatesymptoms2(processed_user_symptoms)\n"
      ],
      "execution_count": null,
      "outputs": [
        {
          "output_type": "stream",
          "text": [
            "After query expansion done by using the symptoms entered\n",
            "['cough coughing', 'leech hemorrhage run bleeding shed blood haemorrhage bleed phlebotomise phlebotomize']\n"
          ],
          "name": "stdout"
        }
      ]
    },
    {
      "cell_type": "code",
      "metadata": {
        "id": "H20o_W-QwHva"
      },
      "source": [
        "found_symptoms = set()\n",
        "for idx, data_sym in enumerate(dataset_symptoms):\n",
        "    data_sym_split=data_sym.split()\n",
        "    for user_sym in user_symptoms:\n",
        "        count=0\n",
        "        for symp in data_sym_split:\n",
        "            if symp in user_sym.split():\n",
        "                count+=1\n",
        "        if count/len(data_sym_split)>0.5:\n",
        "            found_symptoms.add(data_sym)\n",
        "found_symptoms = list(found_symptoms)"
      ],
      "execution_count": null,
      "outputs": []
    },
    {
      "cell_type": "code",
      "metadata": {
        "colab": {
          "base_uri": "https://localhost:8080/"
        },
        "id": "TBb7QRUcwHva",
        "outputId": "75cd0508-2d2e-49b6-c2fd-c6f89f599270"
      },
      "source": [
        "\n",
        "print(\"Top matching symptoms from your search!\")\n",
        "for idx, symp in enumerate(found_symptoms):\n",
        "    print(idx,\":\",symp)\n",
        "\n",
        "\n",
        "select_list = input(\"\\nPlease select the relevant symptoms. Enter indices (separated-space):\\n\").split()\n",
        "\n",
        "\n",
        "dis_list = set()\n",
        "final_symp = [] \n",
        "counter_list = []\n",
        "for idx in select_list:\n",
        "    symp=found_symptoms[int(idx)]\n",
        "    final_symp.append(symp)\n",
        "    dis_list.update(set(df_norm[df_norm[symp]==1]['label_dis']))\n",
        "\n",
        "    \n",
        "for dis in dis_list:\n",
        "    row = df_norm.loc[df_norm['label_dis'] == dis].values.tolist()\n",
        "    row[0].pop(0)\n",
        "    for idx,val in enumerate(row[0]):\n",
        "        if val!=0 and dataset_symptoms[idx] not in final_symp:\n",
        "            counter_list.append(dataset_symptoms[idx])\n",
        "             \n",
        "dict_symp = dict(Counter(counter_list))\n",
        "dict_symp_tup = sorted(dict_symp.items(), key=operator.itemgetter(1),reverse=True)   "
      ],
      "execution_count": null,
      "outputs": [
        {
          "output_type": "stream",
          "text": [
            "Top matching symptoms from your search!\n",
            "0 : cough\n",
            "1 : bleeding\n",
            "2 : coughing\n",
            "\n",
            "Please select the relevant symptoms. Enter indices (separated-space):\n",
            "0 1 2\n"
          ],
          "name": "stdout"
        }
      ]
    },
    {
      "cell_type": "code",
      "metadata": {
        "colab": {
          "base_uri": "https://localhost:8080/"
        },
        "id": "8gUkFbATwHvc",
        "outputId": "472c7a80-d74d-43f9-ab7e-736fb55d6c95"
      },
      "source": [
        "\n",
        "found_symptoms=[]\n",
        "count=0\n",
        "for tup in dict_symp_tup:\n",
        "    count+=1\n",
        "    found_symptoms.append(tup[0])\n",
        "    if count%5==0 or count==len(dict_symp_tup):\n",
        "        print(\"\\nCommon co-occuring symptoms:\")\n",
        "        for idx,ele in enumerate(found_symptoms):\n",
        "            print(idx,\":\",ele)\n",
        "        select_list = input(\"Do you have have of these symptoms? If Yes, enter the indices (space-separated), 'no' to stop, '-1' to skip:\\n\").lower().split();\n",
        "        if select_list[0]=='no':\n",
        "            break\n",
        "        if select_list[0]=='-1':\n",
        "            found_symptoms = [] \n",
        "            continue\n",
        "        for idx in select_list:\n",
        "            final_symp.append(found_symptoms[int(idx)])\n",
        "        found_symptoms = []    "
      ],
      "execution_count": null,
      "outputs": [
        {
          "output_type": "stream",
          "text": [
            "\n",
            "Common co-occuring symptoms:\n",
            "0 : fever\n",
            "1 : shortness breath\n",
            "2 : headache\n",
            "3 : runny nose\n",
            "4 : sore throat\n",
            "Do you have have of these symptoms? If Yes, enter the indices (space-separated), 'no' to stop, '-1' to skip:\n",
            "no\n"
          ],
          "name": "stdout"
        }
      ]
    },
    {
      "cell_type": "code",
      "metadata": {
        "colab": {
          "base_uri": "https://localhost:8080/"
        },
        "id": "ZrVhG3w6wHvc",
        "outputId": "d88c4a8a-5e09-4554-d641-213a3dbc0086"
      },
      "source": [
        "\n",
        "k = 10\n",
        "\n",
        "print(\"Final list of Symptoms used for prediction are : \")\n",
        "for val in final_symp:\n",
        "    print(val)"
      ],
      "execution_count": null,
      "outputs": [
        {
          "output_type": "stream",
          "text": [
            "Final list of Symptoms used for prediction are : \n",
            "cough\n",
            "bleeding\n",
            "coughing\n"
          ],
          "name": "stdout"
        }
      ]
    },
    {
      "cell_type": "code",
      "metadata": {
        "colab": {
          "base_uri": "https://localhost:8080/"
        },
        "id": "1_XlwdDBwHvd",
        "outputId": "afe64d4d-6b83-4dc2-e685-9ae5bf666647"
      },
      "source": [
        "# Show top 10 highly probable disease to the user using TF-IDF\n",
        "tf_idf_results(k,final_symp,tf_idf)\n",
        "\n"
      ],
      "execution_count": null,
      "outputs": [
        {
          "output_type": "stream",
          "text": [
            "\n",
            "Top 10 diseases predicted based on TF_IDF Matching :\n",
            "\n",
            "0. Disease : Asthma \t Score : 4.51\n",
            "1. Disease : Bang's disease \t Score : 4.51\n",
            "2. Disease : Flu \t Score : 4.51\n",
            "3. Disease : Disseminated Intravascular Coagulation \t Score : 4.22\n",
            "4. Disease : Ebola Virus Disease (EVD) \t Score : 4.22\n",
            "5. Disease : Lassa hemorrhagic fever \t Score : 4.22\n",
            "6. Disease : Leukemia \t Score : 4.22\n",
            "7. Disease : Asbestos-related diseases \t Score : 3.12\n",
            "8. Disease : Bronchiolitis \t Score : 3.12\n",
            "9. Disease : Common Cold \t Score : 3.12\n",
            "\n",
            "More details about the disease? Enter index of disease or '-1' to discontinue:\n",
            "-1\n"
          ],
          "name": "stdout"
        }
      ]
    },
    {
      "cell_type": "code",
      "metadata": {
        "colab": {
          "base_uri": "https://localhost:8080/"
        },
        "id": "BPUJtjm4wHvd",
        "outputId": "4ebb815e-5eab-422f-d2f4-0e5a06d375cc"
      },
      "source": [
        "# display top k diseases predicted with cosine probablity\n",
        "cosine_sim_results(k,final_symp,M,columns_name,D,diseases,tf,idf)"
      ],
      "execution_count": null,
      "outputs": [
        {
          "output_type": "stream",
          "text": [
            "Top 10 disease based on Cosine Similarity Matching :\n",
            " \n",
            "0. Disease : Bang's disease \t Score : 0.65\n",
            "1. Disease : Lassa hemorrhagic fever \t Score : 0.54\n",
            "2. Disease : Flu \t Score : 0.31\n",
            "3. Disease : Middle East respiratory syndrome coronavirus (MERS‐CoV) \t Score : 0.31\n",
            "4. Disease : Asthma \t Score : 0.31\n",
            "5. Disease : Cough \t Score : 0.28\n",
            "6. Disease : Nipah virus infection \t Score : 0.27\n",
            "7. Disease : Ebola Virus Disease (EVD) \t Score : 0.26\n",
            "8. Disease : Leukemia \t Score : 0.26\n",
            "9. Disease : Legionnaire's pneumonia \t Score : 0.24\n",
            "\n",
            "More details about the disease? Enter index of disease or '-1' to discontinue and close the system:\n",
            "-1\n"
          ],
          "name": "stdout"
        }
      ]
    },
    {
      "cell_type": "code",
      "metadata": {
        "id": "H5AnqtX1xUb7"
      },
      "source": [
        ""
      ],
      "execution_count": null,
      "outputs": []
    }
  ]
}