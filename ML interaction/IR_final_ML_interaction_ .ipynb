{
  "nbformat": 4,
  "nbformat_minor": 0,
  "metadata": {
    "colab": {
      "name": "IR final ML_interaction .ipynb",
      "provenance": [],
      "collapsed_sections": []
    },
    "kernelspec": {
      "display_name": "Python 3",
      "language": "python",
      "name": "python3"
    },
    "language_info": {
      "codemirror_mode": {
        "name": "ipython",
        "version": 3
      },
      "file_extension": ".py",
      "mimetype": "text/x-python",
      "name": "python",
      "nbconvert_exporter": "python",
      "pygments_lexer": "ipython3",
      "version": "3.8.3"
    }
  },
  "cells": [
    {
      "cell_type": "markdown",
      "metadata": {
        "id": "4I-dzz2bUuKv"
      },
      "source": [
        "# **Imports**"
      ]
    },
    {
      "cell_type": "code",
      "metadata": {
        "id": "GV0zVN6KojE7"
      },
      "source": [
        "import warnings\n",
        "import numpy as np\n",
        "import pandas as pd\n",
        "from sklearn.metrics import accuracy_score, precision_recall_fscore_support\n",
        "from sklearn.model_selection import train_test_split, cross_val_score\n",
        "from statistics import mean\n",
        "from nltk.corpus import wordnet \n",
        "import requests\n",
        "from bs4 import BeautifulSoup\n",
        "from nltk.corpus import stopwords\n",
        "from nltk.stem import WordNetLemmatizer\n",
        "from nltk.tokenize import RegexpTokenizer\n",
        "from itertools import combinations\n",
        "from time import time\n",
        "from collections import Counter\n",
        "import operator\n",
        "from xgboost import XGBClassifier\n",
        "import math\n",
        "from sklearn.linear_model import LogisticRegression\n",
        "from synonyms import syno\n",
        "from synonyms import generatesymptoms2\n",
        "import joblib\n",
        "\n",
        "warnings.simplefilter(\"ignore\")"
      ],
      "execution_count": null,
      "outputs": []
    },
    {
      "cell_type": "code",
      "metadata": {
        "id": "MixE4aGvloyF"
      },
      "source": [
        "from LR import LR\n",
        "from LR import diseaseDetail\n",
        "from randomrf import RandF\n",
        "from knneigbh import knn\n",
        "from decisionT import decisionT\n",
        "from multiLP import mlp\n",
        "from IRsvm import SVM\n",
        "from mnb import MNB\n",
        "from IRadaboost import ADA\n",
        "from IRgdb import GDB\n",
        "from IRxgb import XGB"
      ],
      "execution_count": null,
      "outputs": []
    },
    {
      "cell_type": "code",
      "metadata": {
        "id": "wNGzgrv7omqY"
      },
      "source": [
        "import nltk\n",
        "nltk.download('all')"
      ],
      "execution_count": null,
      "outputs": []
    },
    {
      "cell_type": "code",
      "metadata": {
        "colab": {
          "base_uri": "https://localhost:8080/"
        },
        "id": "0nUxHxHcJZ4u",
        "outputId": "56eba862-0a93-495b-96aa-e99ace85c020"
      },
      "source": [
        "from google.colab import drive\n",
        "drive.mount('/content/drive')"
      ],
      "execution_count": null,
      "outputs": [
        {
          "output_type": "stream",
          "text": [
            "Mounted at /content/drive\n"
          ],
          "name": "stdout"
        }
      ]
    },
    {
      "cell_type": "markdown",
      "metadata": {
        "id": "S19X8A1EUgon"
      },
      "source": [
        "# **Data Preprocess and Score Calculation**"
      ]
    },
    {
      "cell_type": "code",
      "metadata": {
        "id": "cbdTfNIRozPk"
      },
      "source": [
        "df_comb = pd.read_csv(\"/content/drive/MyDrive/combinational (3).csv\") # Disease combination\n",
        "df_norm = pd.read_csv(\"/content/drive/MyDrive/normal (3).csv\") # Individual Disease\n",
        "\n",
        "X = df_comb.iloc[:, 1:]\n",
        "Y = df_comb.iloc[:, 0:1]"
      ],
      "execution_count": null,
      "outputs": []
    },
    {
      "cell_type": "code",
      "metadata": {
        "id": "WYbGvgORxdfI"
      },
      "source": [
        "#path of the saved models\n",
        "lr_filename = '/content/drive/MyDrive/lr_model.sav'\n",
        "rf_filename = '/content/drive/MyDrive/rf_model.sav'\n",
        "knn_filename = '/content/drive/MyDrive/knn_model.sav'\n",
        "dt_filename = '/content/drive/MyDrive/dt_model.sav'\n",
        "mlp_filename = '/content/drive/MyDrive/mlp_model.sav'\n",
        "svm_filename = '/content/drive/MyDrive/svm_model.sav'\n",
        "mnb_filename = '/content/drive/MyDrive/mnb_model.sav'\n",
        "ada_filename = '/content/drive/MyDrive/ada_model.sav'\n",
        "gdb_filename = '/content/drive/MyDrive/gdb_model.sav'\n",
        "xgb_filename = '/content/drive/MyDrive/xgb_model.sav'"
      ],
      "execution_count": null,
      "outputs": []
    },
    {
      "cell_type": "code",
      "metadata": {
        "id": "oBnCCbrENkQ1",
        "colab": {
          "base_uri": "https://localhost:8080/"
        },
        "outputId": "cdbd28e6-9d86-4fbf-bfcf-c4812043da3b"
      },
      "source": [
        "lr = LogisticRegression(multi_class='multinomial', solver='lbfgs')\n",
        "lr = lr.fit(X, Y)\n",
        "# save the model to disk\n",
        "filename = '/content/drive/MyDrive/lr_model.sav'\n",
        "joblib.dump(lr, filename)"
      ],
      "execution_count": null,
      "outputs": [
        {
          "output_type": "execute_result",
          "data": {
            "text/plain": [
              "['/content/drive/MyDrive/lr_model.sav']"
            ]
          },
          "metadata": {
            "tags": []
          },
          "execution_count": 31
        }
      ]
    },
    {
      "cell_type": "code",
      "metadata": {
        "id": "lMp2ASnosRP_"
      },
      "source": [
        "lr = joblib.load(lr_filename)\n",
        "scoresLR = cross_val_score(lr, X, Y, cv=5)"
      ],
      "execution_count": null,
      "outputs": []
    },
    {
      "cell_type": "code",
      "metadata": {
        "id": "8MnipWfcSe5x",
        "colab": {
          "base_uri": "https://localhost:8080/"
        },
        "outputId": "e38e9c77-ccfd-482c-b94e-81acd88b1522"
      },
      "source": [
        "from sklearn.ensemble import RandomForestClassifier as rf\n",
        "rfmod=rf(n_estimators=20,criterion='entropy')\n",
        "rfmod.fit(X,Y)\n",
        "filename = '/content/drive/MyDrive/rf_model.sav'\n",
        "joblib.dump(rfmod, filename)"
      ],
      "execution_count": null,
      "outputs": [
        {
          "output_type": "execute_result",
          "data": {
            "text/plain": [
              "['/content/drive/MyDrive/rf_model.sav']"
            ]
          },
          "metadata": {
            "tags": []
          },
          "execution_count": 33
        }
      ]
    },
    {
      "cell_type": "code",
      "metadata": {
        "id": "VEQtptADtqbl"
      },
      "source": [
        "rfmod = joblib.load(rf_filename)\n",
        "scoresRF = cross_val_score(rfmod, X, Y, cv=5)"
      ],
      "execution_count": null,
      "outputs": []
    },
    {
      "cell_type": "code",
      "metadata": {
        "id": "W-iG6C1bW_9a",
        "colab": {
          "base_uri": "https://localhost:8080/"
        },
        "outputId": "321ad8a3-e4f9-42c9-8452-8b9065464225"
      },
      "source": [
        "from sklearn.neighbors import KNeighborsClassifier as knn\n",
        "knn_obj=knn()\n",
        "knn_obj.fit(X,Y)\n",
        "filename = '/content/drive/MyDrive/knn_model.sav'\n",
        "joblib.dump(knn_obj, filename)"
      ],
      "execution_count": null,
      "outputs": [
        {
          "output_type": "execute_result",
          "data": {
            "text/plain": [
              "['/content/drive/MyDrive/knn_model.sav']"
            ]
          },
          "metadata": {
            "tags": []
          },
          "execution_count": 35
        }
      ]
    },
    {
      "cell_type": "code",
      "metadata": {
        "id": "ZFejibw4t-lu"
      },
      "source": [
        "knn_obj = joblib.load(knn_filename)\n",
        "scoresknn = cross_val_score(knn_obj, X, Y, cv=5)"
      ],
      "execution_count": null,
      "outputs": []
    },
    {
      "cell_type": "code",
      "metadata": {
        "id": "lIXuhfoEXAhZ",
        "colab": {
          "base_uri": "https://localhost:8080/"
        },
        "outputId": "7f39dd53-0b53-48a9-d9b4-d306cd154640"
      },
      "source": [
        "from sklearn.tree import DecisionTreeClassifier as dtree\n",
        "dtree_mod=dtree(criterion='entropy')\n",
        "dtree_mod.fit(X,Y)\n",
        "filename = '/content/drive/MyDrive/dt_model.sav'\n",
        "joblib.dump(dtree_mod, filename)"
      ],
      "execution_count": null,
      "outputs": [
        {
          "output_type": "execute_result",
          "data": {
            "text/plain": [
              "['/content/drive/MyDrive/dt_model.sav']"
            ]
          },
          "metadata": {
            "tags": []
          },
          "execution_count": 36
        }
      ]
    },
    {
      "cell_type": "code",
      "metadata": {
        "id": "ZELWBnchuFp_"
      },
      "source": [
        "dtree_mod = joblib.load(dt_filename)\n",
        "scoresDT = cross_val_score(dtree_mod, X, Y, cv=5)"
      ],
      "execution_count": null,
      "outputs": []
    },
    {
      "cell_type": "code",
      "metadata": {
        "id": "dp_bpYZlXO3o",
        "colab": {
          "base_uri": "https://localhost:8080/"
        },
        "outputId": "40838b57-5f2a-4fe4-e31d-d1f545f9dc04"
      },
      "source": [
        "from sklearn.neural_network import MLPClassifier as mlp\n",
        "obj=mlp(hidden_layer_sizes=(200,50),max_iter=1000,solver='adam')\n",
        "obj.fit(X,Y)\n",
        "filename = '/content/drive/MyDrive/mlp_model.sav'\n",
        "joblib.dump(obj, filename)"
      ],
      "execution_count": null,
      "outputs": [
        {
          "output_type": "execute_result",
          "data": {
            "text/plain": [
              "['/content/drive/MyDrive/mlp_model.sav']"
            ]
          },
          "metadata": {
            "tags": []
          },
          "execution_count": 37
        }
      ]
    },
    {
      "cell_type": "code",
      "metadata": {
        "id": "NQZ3oRietAGA"
      },
      "source": [
        "obj = joblib.load(mlp_filename)\n",
        "scoresmlp = cross_val_score(obj, X, Y, cv=5)"
      ],
      "execution_count": null,
      "outputs": []
    },
    {
      "cell_type": "code",
      "metadata": {
        "id": "QcWYFUb2tMzG",
        "colab": {
          "base_uri": "https://localhost:8080/"
        },
        "outputId": "f6eb6e00-e70b-4b92-e1f2-8f255e6d18e4"
      },
      "source": [
        "from sklearn import svm\n",
        "#svmclf = svm.SVC(C=1.0, kernel='linear', degree=3, gamma='auto',probability=True)\n",
        "svmclf = svm.SVC(kernel='linear', probability=True)\n",
        "#svmclf = svm.LinearSVC()\n",
        "svmclf.fit(X,Y)\n",
        "filename = '/content/drive/MyDrive/svm_model.sav'\n",
        "joblib.dump(svmclf, filename)"
      ],
      "execution_count": null,
      "outputs": [
        {
          "output_type": "execute_result",
          "data": {
            "text/plain": [
              "['/content/drive/MyDrive/svm_model.sav']"
            ]
          },
          "metadata": {
            "tags": []
          },
          "execution_count": 38
        }
      ]
    },
    {
      "cell_type": "code",
      "metadata": {
        "id": "fJBlSyHUut03"
      },
      "source": [
        "svmclf= joblib.load(svm_filename)\n",
        "scoressvm = cross_val_score(svmclf, X, Y, cv=5)"
      ],
      "execution_count": null,
      "outputs": []
    },
    {
      "cell_type": "code",
      "metadata": {
        "id": "GBCo20j1uAun",
        "colab": {
          "base_uri": "https://localhost:8080/"
        },
        "outputId": "02b44671-4513-4fce-b0a5-d7999a48ef6b"
      },
      "source": [
        "from sklearn.naive_bayes import MultinomialNB\n",
        "MNBclf = MultinomialNB(alpha=1.0, fit_prior=True)\n",
        "MNBclf.fit(X, Y)\n",
        "filename = '/content/drive/MyDrive/mnb_model.sav'\n",
        "joblib.dump(MNBclf, filename)"
      ],
      "execution_count": null,
      "outputs": [
        {
          "output_type": "execute_result",
          "data": {
            "text/plain": [
              "['/content/drive/MyDrive/mnb_model.sav']"
            ]
          },
          "metadata": {
            "tags": []
          },
          "execution_count": 39
        }
      ]
    },
    {
      "cell_type": "code",
      "metadata": {
        "id": "XpKFYE6avDGf"
      },
      "source": [
        "MNBclf= joblib.load(mnb_filename)\n",
        "scoresmnb = cross_val_score(MNBclf, X, Y, cv=5)"
      ],
      "execution_count": null,
      "outputs": []
    },
    {
      "cell_type": "code",
      "metadata": {
        "id": "3tcyxIFxwnIH",
        "colab": {
          "base_uri": "https://localhost:8080/"
        },
        "outputId": "08aa68ca-ece8-428e-c934-6cef9fc51137"
      },
      "source": [
        "from sklearn.ensemble import AdaBoostClassifier\n",
        "abc = AdaBoostClassifier(n_estimators=50, learning_rate=1)\n",
        "adb_obj = abc.fit(X,Y)\n",
        "filename = '/content/drive/MyDrive/ada_model.sav'\n",
        "joblib.dump(adb_obj, filename)"
      ],
      "execution_count": null,
      "outputs": [
        {
          "output_type": "execute_result",
          "data": {
            "text/plain": [
              "['/content/drive/MyDrive/ada_model.sav']"
            ]
          },
          "metadata": {
            "tags": []
          },
          "execution_count": 40
        }
      ]
    },
    {
      "cell_type": "code",
      "metadata": {
        "id": "dpb2oJR5vU2m"
      },
      "source": [
        "adb_obj= joblib.load(ada_filename)\n",
        "scoresabc = cross_val_score(adb_obj, X, Y, cv=5)"
      ],
      "execution_count": null,
      "outputs": []
    },
    {
      "cell_type": "code",
      "metadata": {
        "id": "NvREho9ptAB8",
        "colab": {
          "base_uri": "https://localhost:8080/"
        },
        "outputId": "4a9ea414-efe0-4d87-f490-4a30227b3fc0"
      },
      "source": [
        "from sklearn.ensemble import GradientBoostingClassifier\n",
        "gdb = GradientBoostingClassifier(learning_rate=0.1, n_estimators=50)\n",
        "gdb.fit(X, Y)\n",
        "filename = '/content/drive/MyDrive/gdb_model.sav'\n",
        "joblib.dump(gdb, filename)"
      ],
      "execution_count": null,
      "outputs": [
        {
          "output_type": "execute_result",
          "data": {
            "text/plain": [
              "['/content/drive/MyDrive/gdb_model.sav']"
            ]
          },
          "metadata": {
            "tags": []
          },
          "execution_count": 41
        }
      ]
    },
    {
      "cell_type": "code",
      "metadata": {
        "id": "aTgT9XPqvhEK"
      },
      "source": [
        "gdb= joblib.load(gdb_filename)\n",
        "scoresgdb = cross_val_score(gdb, X, Y, cv=5)"
      ],
      "execution_count": null,
      "outputs": []
    },
    {
      "cell_type": "code",
      "metadata": {
        "colab": {
          "base_uri": "https://localhost:8080/"
        },
        "id": "R1v-K4Etxxzt",
        "outputId": "8bf1c25b-376b-4b1a-ed04-21292c4af90f"
      },
      "source": [
        "import xgboost as xgb\n",
        "xgb_model = xgb.XGBClassifier(objective=\"multi:softprob\")\n",
        "xgb_model.fit(X, Y)\n",
        "filename = '/content/drive/MyDrive/xgb_model.sav'\n",
        "joblib.dump(xgb_model, filename)"
      ],
      "execution_count": null,
      "outputs": [
        {
          "output_type": "execute_result",
          "data": {
            "text/plain": [
              "['/content/drive/MyDrive/xgb_model.sav']"
            ]
          },
          "metadata": {
            "tags": []
          },
          "execution_count": 42
        }
      ]
    },
    {
      "cell_type": "code",
      "metadata": {
        "id": "APzkjlp7vvsG"
      },
      "source": [
        "xgb_model= joblib.load(xgb_filename)\n",
        "scoresxgb = cross_val_score(xgb_model, X, Y, cv=5)"
      ],
      "execution_count": null,
      "outputs": []
    },
    {
      "cell_type": "code",
      "metadata": {
        "id": "TWv8e4Lno3Hf"
      },
      "source": [
        "X = df_norm.iloc[:, 1:]\n",
        "Y = df_norm.iloc[:, 0:1]"
      ],
      "execution_count": null,
      "outputs": []
    },
    {
      "cell_type": "code",
      "metadata": {
        "id": "xMjCdlqwo4na"
      },
      "source": [
        "dataset_symptoms = list(X.columns)"
      ],
      "execution_count": null,
      "outputs": []
    },
    {
      "cell_type": "markdown",
      "metadata": {
        "id": "FXFoXNAnUV_h"
      },
      "source": [
        "# **Input From User**"
      ]
    },
    {
      "cell_type": "code",
      "metadata": {
        "colab": {
          "base_uri": "https://localhost:8080/"
        },
        "id": "JJbUkl0jo7Vi",
        "outputId": "39b65643-68b5-4f24-9659-e30c5aa5ce09"
      },
      "source": [
        "user_symptoms1 = str(input(\"Please enter symptoms separated by comma(,):\\n\")).lower().split(',')\n",
        "user_symptoms = generatesymptoms2(user_symptoms1)"
      ],
      "execution_count": null,
      "outputs": [
        {
          "output_type": "stream",
          "text": [
            "Please enter symptoms separated by comma(,):\n",
            "fever\n",
            "After query expansion done by using the symptoms entered\n",
            "['febricity fever pyrexia febrility feverishness']\n"
          ],
          "name": "stdout"
        }
      ]
    },
    {
      "cell_type": "code",
      "metadata": {
        "id": "qTzs0mflo81p"
      },
      "source": [
        "found_symptoms = set()\n",
        "for idx, data_sym in enumerate(dataset_symptoms):\n",
        "    data_sym_split=data_sym.split()\n",
        "    for user_sym in user_symptoms:\n",
        "        count=0\n",
        "        for symp in data_sym_split:\n",
        "            if symp in user_sym.split():\n",
        "                count+=1\n",
        "        if count/len(data_sym_split)>0.5:\n",
        "            found_symptoms.add(data_sym)\n",
        "found_symptoms = list(found_symptoms)"
      ],
      "execution_count": null,
      "outputs": []
    },
    {
      "cell_type": "code",
      "metadata": {
        "colab": {
          "base_uri": "https://localhost:8080/"
        },
        "id": "iwZVnAQDo-mr",
        "outputId": "7bbfed4d-1bfc-436e-830e-4663fd91086c"
      },
      "source": [
        "print(\"Top matching symptoms from your search!\")\n",
        "for idx, symp in enumerate(found_symptoms):\n",
        "    print(idx,\":\",symp)\n",
        "    \n",
        "select_list = input(\"\\nPlease select the relevant symptoms. Enter indices (separated-space):\\n\").split()\n",
        "\n",
        "dis_list = set()\n",
        "final_symp = [] \n",
        "counter_list = []\n",
        "for idx in select_list:\n",
        "    symp=found_symptoms[int(idx)]\n",
        "    final_symp.append(symp)\n",
        "    dis_list.update(set(df_norm[df_norm[symp]==1]['label_dis']))\n",
        "   \n",
        "for dis in dis_list:\n",
        "    row = df_norm.loc[df_norm['label_dis'] == dis].values.tolist()\n",
        "    row[0].pop(0)\n",
        "    for idx,val in enumerate(row[0]):\n",
        "        if val!=0 and dataset_symptoms[idx] not in final_symp:\n",
        "            counter_list.append(dataset_symptoms[idx])"
      ],
      "execution_count": null,
      "outputs": [
        {
          "output_type": "stream",
          "text": [
            "Top matching symptoms from your search!\n",
            "0 : fever\n",
            "\n",
            "Please select the relevant symptoms. Enter indices (separated-space):\n",
            "0\n"
          ],
          "name": "stdout"
        }
      ]
    },
    {
      "cell_type": "code",
      "metadata": {
        "id": "mPgvTgg1pABt"
      },
      "source": [
        "dict_symp = dict(Counter(counter_list))\n",
        "dict_symp_tup = sorted(dict_symp.items(), key=operator.itemgetter(1),reverse=True)   \n",
        "#print(dict_symp_tup) "
      ],
      "execution_count": null,
      "outputs": []
    },
    {
      "cell_type": "code",
      "metadata": {
        "colab": {
          "base_uri": "https://localhost:8080/"
        },
        "id": "NiJsDfJ_pBdZ",
        "outputId": "d7a18ad3-9694-4641-8852-23551cde4d82"
      },
      "source": [
        " \n",
        "found_symptoms=[]\n",
        "count=0\n",
        "for tup in dict_symp_tup:\n",
        "    count+=1\n",
        "    found_symptoms.append(tup[0])\n",
        "    if count%5==0 or count==len(dict_symp_tup):\n",
        "        print(\"\\nCommon co-occuring symptoms:\")\n",
        "        for idx,ele in enumerate(found_symptoms):\n",
        "            print(idx,\":\",ele)\n",
        "        select_list = input(\"Do you have have of these symptoms? If Yes, enter the indices (space-separated), 'no' to stop, '-1' to skip:\\n\").lower().split();\n",
        "        if select_list[0]=='no':\n",
        "            break\n",
        "        if select_list[0]=='-1':\n",
        "            found_symptoms = [] \n",
        "            continue\n",
        "        for idx in select_list:\n",
        "            final_symp.append(found_symptoms[int(idx)])\n",
        "        found_symptoms = [] "
      ],
      "execution_count": null,
      "outputs": [
        {
          "output_type": "stream",
          "text": [
            "\n",
            "Common co-occuring symptoms:\n",
            "0 : headache\n",
            "1 : cough\n",
            "2 : vomiting\n",
            "3 : rash\n",
            "4 : muscle pain\n",
            "Do you have have of these symptoms? If Yes, enter the indices (space-separated), 'no' to stop, '-1' to skip:\n",
            "no\n"
          ],
          "name": "stdout"
        }
      ]
    },
    {
      "cell_type": "code",
      "metadata": {
        "colab": {
          "base_uri": "https://localhost:8080/"
        },
        "id": "W2hcpHb_pC7K",
        "outputId": "2a074673-9e46-442f-ee1a-fd20b6206a28"
      },
      "source": [
        "print(\"\\nFinal list of Symptoms that will be used for prediction:\")\n",
        "sample_x = [0 for x in range(0,len(dataset_symptoms))]\n",
        "for val in final_symp:\n",
        "    print(val)\n",
        "    sample_x[dataset_symptoms.index(val)]=1"
      ],
      "execution_count": null,
      "outputs": [
        {
          "output_type": "stream",
          "text": [
            "\n",
            "Final list of Symptoms that will be used for prediction:\n",
            "fever\n"
          ],
          "name": "stdout"
        }
      ]
    },
    {
      "cell_type": "markdown",
      "metadata": {
        "id": "MlLvHqPZTHuP"
      },
      "source": [
        "# **Logistic Regression**"
      ]
    },
    {
      "cell_type": "code",
      "metadata": {
        "colab": {
          "base_uri": "https://localhost:8080/"
        },
        "id": "diC3JT_eolZc",
        "outputId": "ed024aa7-155e-4cfc-9e6b-9ccaec4aa2d7"
      },
      "source": [
        "print(\"Logistic Regression Accuracy : \",np.mean(scoresLR)*100)"
      ],
      "execution_count": null,
      "outputs": [
        {
          "output_type": "stream",
          "text": [
            "Logistic Regression Accuracy :  89.88417348843889\n"
          ],
          "name": "stdout"
        }
      ]
    },
    {
      "cell_type": "code",
      "metadata": {
        "colab": {
          "base_uri": "https://localhost:8080/"
        },
        "id": "0uKh3ls7pGdt",
        "outputId": "d2e44244-deed-4a23-fe0a-1185d706c118"
      },
      "source": [
        "LR(X,Y,sample_x,df_norm,dataset_symptoms,final_symp,scoresLR)"
      ],
      "execution_count": null,
      "outputs": [
        {
          "output_type": "stream",
          "text": [
            "\n",
            "Top 10 diseases predicted based on symptoms by Logistic Regression\n",
            "0 Disease name: Epidemic Relapsing fever \tProbability: 89.88%\n",
            "1 Disease name: Hand, Foot and Mouth Disease \tProbability: 89.88%\n",
            "2 Disease name: Chikungunya fever \tProbability: 89.88%\n",
            "3 Disease name: Pericarditis \tProbability: 89.88%\n",
            "4 Disease name: Whitmore's disease \tProbability: 89.88%\n",
            "5 Disease name: Necrotizing fasciitis \tProbability: 89.88%\n",
            "6 Disease name: Otitis Media \tProbability: 89.88%\n",
            "7 Disease name: Puerperal sepsis \tProbability: 89.88%\n",
            "8 Disease name: Montezuma's Revenge \tProbability: 89.88%\n",
            "9 Disease name: Tularemia \tProbability: 89.88%\n",
            "\n",
            "More details about the disease? Enter index of disease or '-1' to discontinue and close the system:\n",
            "-1\n"
          ],
          "name": "stdout"
        }
      ]
    },
    {
      "cell_type": "markdown",
      "metadata": {
        "id": "auFdjKrBTNrO"
      },
      "source": [
        "# **Random Forest**"
      ]
    },
    {
      "cell_type": "code",
      "metadata": {
        "colab": {
          "base_uri": "https://localhost:8080/"
        },
        "id": "fXGm9KLsrmJe",
        "outputId": "c2eebd25-c662-4043-a81a-dcb7668731f4"
      },
      "source": [
        "print(\"Random Forest Accuracy : \",np.mean(scoresRF)*100)"
      ],
      "execution_count": null,
      "outputs": [
        {
          "output_type": "stream",
          "text": [
            "Random Forest Accuracy :  89.9789063622002\n"
          ],
          "name": "stdout"
        }
      ]
    },
    {
      "cell_type": "code",
      "metadata": {
        "colab": {
          "base_uri": "https://localhost:8080/"
        },
        "id": "qPj34Z08Wc07",
        "outputId": "0f2f7bc7-288d-4b81-abfc-1fcf64bab3f3"
      },
      "source": [
        "RandF(X,Y,sample_x,df_norm,dataset_symptoms,final_symp,scoresRF)"
      ],
      "execution_count": null,
      "outputs": [
        {
          "output_type": "stream",
          "text": [
            "\n",
            "Top 10 diseases predicted based on symptoms by Random Forest\n",
            "0 Disease name: Epidemic Relapsing fever \tProbability: 86.93%\n",
            "1 Disease name: Chikungunya fever \tProbability: 86.93%\n",
            "2 Disease name: Tularemia \tProbability: 86.93%\n",
            "3 Disease name: Scrub typhus \tProbability: 86.93%\n",
            "4 Disease name: Rheumatic fever and rheumatic heart disease \tProbability: 86.93%\n",
            "5 Disease name: Necrotizing fasciitis \tProbability: 86.93%\n",
            "6 Disease name: Sinusitis \tProbability: 86.93%\n",
            "7 Disease name: Erysipelis \tProbability: 86.93%\n",
            "8 Disease name: Isosporiasis \tProbability: 43.46%\n",
            "9 Disease name: Erythema nodosum \tProbability: 43.46%\n",
            "\n",
            "More details about the disease? Enter index of disease or '-1' to discontinue and close the system:\n",
            "-1\n"
          ],
          "name": "stdout"
        }
      ]
    },
    {
      "cell_type": "markdown",
      "metadata": {
        "id": "ZW5xynB5TU83"
      },
      "source": [
        "# **KNN**"
      ]
    },
    {
      "cell_type": "code",
      "metadata": {
        "id": "fF36jKBGS11j"
      },
      "source": [
        "knn1(X,Y,sample_x,df_norm,dataset_symptoms,final_symp,scoresknn)"
      ],
      "execution_count": null,
      "outputs": []
    },
    {
      "cell_type": "code",
      "metadata": {
        "colab": {
          "base_uri": "https://localhost:8080/"
        },
        "id": "o2bnMQUDrx_4",
        "outputId": "1f488f1f-5c72-4da5-dbff-b031dab8e2b8"
      },
      "source": [
        "print(\"KNN Accuracy : \",np.mean(scoresknn)*100)"
      ],
      "execution_count": null,
      "outputs": [
        {
          "output_type": "stream",
          "text": [
            "KNN Accuracy :  89.9789063622002\n"
          ],
          "name": "stdout"
        }
      ]
    },
    {
      "cell_type": "markdown",
      "metadata": {
        "id": "heHMUf_ETZv7"
      },
      "source": [
        "# **Decision Tree**"
      ]
    },
    {
      "cell_type": "code",
      "metadata": {
        "colab": {
          "base_uri": "https://localhost:8080/"
        },
        "id": "F1KptQVJsD4A",
        "outputId": "96eb9c4f-33c4-4e55-df24-09b502df37ff"
      },
      "source": [
        "print(\"Decision Tree Accuracy : \",np.mean(scoresDT)*100)"
      ],
      "execution_count": null,
      "outputs": [
        {
          "output_type": "stream",
          "text": [
            "Decision Tree Accuracy :  72.62798003734024\n"
          ],
          "name": "stdout"
        }
      ]
    },
    {
      "cell_type": "code",
      "metadata": {
        "colab": {
          "base_uri": "https://localhost:8080/"
        },
        "id": "VH0tVeTVXxND",
        "outputId": "0c09b910-d29f-4802-a4de-36145272c44b"
      },
      "source": [
        "decisionT(X,Y,sample_x,df_norm,dataset_symptoms,final_symp,scoresDT)"
      ],
      "execution_count": null,
      "outputs": [
        {
          "output_type": "stream",
          "text": [
            "\n",
            "Top 10 diseases predicted based on symptoms by Decision Tree\n",
            "0 Disease name: Epidemic Relapsing fever \tProbability: 72.57%\n",
            "1 Disease name: Epiglottitis \tProbability: 72.57%\n",
            "2 Disease name: Erysipelis \tProbability: 72.57%\n",
            "3 Disease name: lactose intolerance \tProbability: 36.29%\n",
            "4 Disease name: Epilepsy \tProbability: 36.29%\n",
            "5 Disease name: Endemic syphilis \tProbability: 36.29%\n",
            "6 Disease name: Endometriosis \tProbability: 36.29%\n",
            "7 Disease name: Endothrix \tProbability: 36.29%\n",
            "8 Disease name: Enterobiasis \tProbability: 36.29%\n",
            "9 Disease name: Zoster \tProbability: 36.29%\n",
            "\n",
            "More details about the disease? Enter index of disease or '-1' to discontinue and close the system:\n",
            "-1\n"
          ],
          "name": "stdout"
        }
      ]
    },
    {
      "cell_type": "markdown",
      "metadata": {
        "id": "t7Ej65-CTd4X"
      },
      "source": [
        "# **Multilayer Perceptron**"
      ]
    },
    {
      "cell_type": "code",
      "metadata": {
        "id": "9p6VfT-LTAnI"
      },
      "source": [
        "mlp1(X,Y,sample_x,df_norm,dataset_symptoms,final_symp,scoresmlp)"
      ],
      "execution_count": null,
      "outputs": []
    },
    {
      "cell_type": "code",
      "metadata": {
        "colab": {
          "base_uri": "https://localhost:8080/"
        },
        "id": "D56_GeJKsJMT",
        "outputId": "a634c9e8-0572-49fb-c2ce-8f6610e74d49"
      },
      "source": [
        "print(\"MLP Accuracy : \",np.mean(scoresmlp)*100)"
      ],
      "execution_count": null,
      "outputs": [
        {
          "output_type": "stream",
          "text": [
            "MLP Accuracy :  89.42989731437599\n"
          ],
          "name": "stdout"
        }
      ]
    },
    {
      "cell_type": "markdown",
      "metadata": {
        "id": "CG4cADUxTlBV"
      },
      "source": [
        "# **SVM**"
      ]
    },
    {
      "cell_type": "code",
      "metadata": {
        "colab": {
          "base_uri": "https://localhost:8080/"
        },
        "id": "JaDgRZcpsXML",
        "outputId": "9e75bd05-c44a-4c4d-d4d3-b018ad18bf17"
      },
      "source": [
        "print(\"SVM Accuracy : \",np.mean(scoressvm)*100)"
      ],
      "execution_count": null,
      "outputs": [
        {
          "output_type": "stream",
          "text": [
            "SVM Accuracy :  87.9904136148212\n"
          ],
          "name": "stdout"
        }
      ]
    },
    {
      "cell_type": "code",
      "metadata": {
        "colab": {
          "base_uri": "https://localhost:8080/"
        },
        "id": "N2dmbDfFk-U5",
        "outputId": "d84d57bf-9700-4528-d841-80d4803915fa"
      },
      "source": [
        "SVM(X,Y,sample_x,df_norm,dataset_symptoms,final_symp,scoressvm)"
      ],
      "execution_count": null,
      "outputs": [
        {
          "output_type": "stream",
          "text": [
            "\n",
            "Top 10 diseases predicted based on symptoms by SVM\n",
            "0 Disease name: Polycystic ovary syndrome (PCOS) \tProbability: 44.0%\n",
            "1 Disease name: Lead poisoning \tProbability: 44.0%\n",
            "2 Disease name: Postanginal septicemia \tProbability: 44.0%\n",
            "3 Disease name: Heat-Related Illnesses and Heat waves \tProbability: 44.0%\n",
            "4 Disease name: Venezuelan Equine encephalitis \tProbability: 44.0%\n",
            "5 Disease name: Anthrax \tProbability: 44.0%\n",
            "6 Disease name: Carpal Tunnel Syndrome \tProbability: 44.0%\n",
            "7 Disease name: Brain Tumour \tProbability: 44.0%\n",
            "8 Disease name: Omsk hemorrhagic fever \tProbability: 44.0%\n",
            "9 Disease name: Disseminated Intravascular Coagulation \tProbability: 44.0%\n",
            "\n",
            "More details about the disease? Enter index of disease or '-1' to discontinue and close the system:\n",
            "-1\n"
          ],
          "name": "stdout"
        }
      ]
    },
    {
      "cell_type": "markdown",
      "metadata": {
        "id": "gj2MaIg_TouU"
      },
      "source": [
        "# **M Naive Bayes**"
      ]
    },
    {
      "cell_type": "code",
      "metadata": {
        "colab": {
          "base_uri": "https://localhost:8080/"
        },
        "id": "1wNUrqBcs1h8",
        "outputId": "353f8233-ab53-42cd-ed60-2d8de8678855"
      },
      "source": [
        "print(\"Naive Bayes Accuracy : \",np.mean(scoresmnb)*100)"
      ],
      "execution_count": null,
      "outputs": [
        {
          "output_type": "stream",
          "text": [
            "Naive Bayes Accuracy :  81.3016479965532\n"
          ],
          "name": "stdout"
        }
      ]
    },
    {
      "cell_type": "code",
      "metadata": {
        "colab": {
          "base_uri": "https://localhost:8080/"
        },
        "id": "EDqniEzMLcvE",
        "outputId": "c8a491bc-67b8-4e8f-8f0f-b9751dbf21c5"
      },
      "source": [
        "MNB(X,Y,sample_x,df_norm,dataset_symptoms,final_symp,scoresmnb)"
      ],
      "execution_count": null,
      "outputs": [
        {
          "output_type": "stream",
          "text": [
            "\n",
            "Top 10 diseases predicted based on symptoms by Random Forest\n",
            "0 Disease name: Epidemic Relapsing fever \tProbability: 81.3%\n",
            "1 Disease name: Hand, Foot and Mouth Disease \tProbability: 81.3%\n",
            "2 Disease name: Chikungunya fever \tProbability: 81.3%\n",
            "3 Disease name: Middle East respiratory syndrome coronavirus (MERS‐CoV) \tProbability: 81.3%\n",
            "4 Disease name: Strep. throat \tProbability: 81.3%\n",
            "5 Disease name: Tetanus \tProbability: 81.3%\n",
            "6 Disease name: Listerosis \tProbability: 81.3%\n",
            "7 Disease name: Shigellosis \tProbability: 81.3%\n",
            "8 Disease name: Lassa hemorrhagic fever \tProbability: 81.3%\n",
            "9 Disease name: Chagas disease \tProbability: 81.3%\n",
            "\n",
            "More details about the disease? Enter index of disease or '-1' to discontinue and close the system:\n",
            "-1\n"
          ],
          "name": "stdout"
        }
      ]
    },
    {
      "cell_type": "markdown",
      "metadata": {
        "id": "TX7PDYKyTvrH"
      },
      "source": [
        "# **Ada Boost**"
      ]
    },
    {
      "cell_type": "code",
      "metadata": {
        "id": "XN9y33cks-tD"
      },
      "source": [
        "print(\"Ada Boost Accuracy : \",np.mean(scoresabc)*100)"
      ],
      "execution_count": null,
      "outputs": []
    },
    {
      "cell_type": "code",
      "metadata": {
        "id": "xzg-AwMMLh-s"
      },
      "source": [
        "ADA(X,Y,sample_x,df_norm,dataset_symptoms,final_symp,scoresabc)"
      ],
      "execution_count": null,
      "outputs": []
    },
    {
      "cell_type": "markdown",
      "metadata": {
        "id": "yJoBl1NNTzrn"
      },
      "source": [
        "# **Gradient Boosting**"
      ]
    },
    {
      "cell_type": "code",
      "metadata": {
        "colab": {
          "base_uri": "https://localhost:8080/"
        },
        "id": "F8t0Lw_htDM5",
        "outputId": "92f352e7-bf1a-4f47-8677-d5a45a327b12"
      },
      "source": [
        "print(\"Gradient Boosting Accuracy : \",np.mean(scoresgdb)*100)"
      ],
      "execution_count": null,
      "outputs": [
        {
          "output_type": "stream",
          "text": [
            "Gradient Boosting Accuracy :  80.94138661496481\n"
          ],
          "name": "stdout"
        }
      ]
    },
    {
      "cell_type": "code",
      "metadata": {
        "colab": {
          "base_uri": "https://localhost:8080/"
        },
        "id": "27jZXLvBqQ2G",
        "outputId": "db7183fe-b1b5-40d7-f60c-963bcc2d0b7e"
      },
      "source": [
        "GDB(X,Y,sample_x,df_norm,dataset_symptoms,final_symp,scoresgdb)"
      ],
      "execution_count": null,
      "outputs": [
        {
          "output_type": "stream",
          "text": [
            "\n",
            "Top 10 diseases predicted based on symptoms by Gradient Booster\n",
            "0 Disease name: Epidemic Relapsing fever \tProbability: 82.29%\n",
            "1 Disease name: Typhoid fever \tProbability: 82.29%\n",
            "2 Disease name: German measles \tProbability: 82.29%\n",
            "3 Disease name: Chikungunya fever \tProbability: 82.29%\n",
            "4 Disease name: Food Poisoning \tProbability: 82.29%\n",
            "5 Disease name: Strep. throat \tProbability: 82.29%\n",
            "6 Disease name: Toxic Shock Syndrome \tProbability: 82.29%\n",
            "7 Disease name: Amebic meningoencephalitis \tProbability: 82.29%\n",
            "8 Disease name: Tularemia \tProbability: 82.29%\n",
            "9 Disease name: Winter diarrhea \tProbability: 41.14%\n",
            "\n",
            "More details about the disease? Enter index of disease or '-1' to discontinue and close the system:\n",
            "-1\n"
          ],
          "name": "stdout"
        }
      ]
    },
    {
      "cell_type": "markdown",
      "metadata": {
        "id": "K3Pyv9NiT4b8"
      },
      "source": [
        "# **Extreme Gradient Boosting Accuracy**"
      ]
    },
    {
      "cell_type": "code",
      "metadata": {
        "id": "Gfw6m-huBNhl",
        "colab": {
          "base_uri": "https://localhost:8080/"
        },
        "outputId": "4a6b9736-ab09-4bed-82d2-b2fae750aa38"
      },
      "source": [
        "print(\"Extreme Gradient Boosting Accuracy : \",np.mean(scoresxgb)*100)"
      ],
      "execution_count": null,
      "outputs": [
        {
          "output_type": "stream",
          "text": [
            "Extreme Gradient Boosting Accuracy :  78.83783929340801\n"
          ],
          "name": "stdout"
        }
      ]
    },
    {
      "cell_type": "code",
      "metadata": {
        "id": "KnPt-f8GT8NV"
      },
      "source": [
        "XGB(X,Y,sample_x,df_norm,dataset_symptoms,final_symp,scoresxgb)"
      ],
      "execution_count": null,
      "outputs": []
    }
  ]
}